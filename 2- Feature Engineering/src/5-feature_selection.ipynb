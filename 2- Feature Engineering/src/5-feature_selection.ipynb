{
 "cells": [
  {
   "cell_type": "code",
   "execution_count": 4,
   "metadata": {},
   "outputs": [],
   "source": [
    "import pandas as pd\n",
    "data = pd.read_csv(r'/Users/liz/Code/jupyter-notebook/sklearn/2- Feature Engineering/day08_digit recognizor.csv')"
   ]
  },
  {
   "cell_type": "code",
   "execution_count": 12,
   "metadata": {},
   "outputs": [
    {
     "data": {
      "text/html": [
       "<div>\n",
       "<style scoped>\n",
       "    .dataframe tbody tr th:only-of-type {\n",
       "        vertical-align: middle;\n",
       "    }\n",
       "\n",
       "    .dataframe tbody tr th {\n",
       "        vertical-align: top;\n",
       "    }\n",
       "\n",
       "    .dataframe thead th {\n",
       "        text-align: right;\n",
       "    }\n",
       "</style>\n",
       "<table border=\"1\" class=\"dataframe\">\n",
       "  <thead>\n",
       "    <tr style=\"text-align: right;\">\n",
       "      <th></th>\n",
       "      <th>label</th>\n",
       "      <th>pixel0</th>\n",
       "      <th>pixel1</th>\n",
       "      <th>pixel2</th>\n",
       "      <th>pixel3</th>\n",
       "      <th>pixel4</th>\n",
       "      <th>pixel5</th>\n",
       "      <th>pixel6</th>\n",
       "      <th>pixel7</th>\n",
       "      <th>pixel8</th>\n",
       "      <th>...</th>\n",
       "      <th>pixel774</th>\n",
       "      <th>pixel775</th>\n",
       "      <th>pixel776</th>\n",
       "      <th>pixel777</th>\n",
       "      <th>pixel778</th>\n",
       "      <th>pixel779</th>\n",
       "      <th>pixel780</th>\n",
       "      <th>pixel781</th>\n",
       "      <th>pixel782</th>\n",
       "      <th>pixel783</th>\n",
       "    </tr>\n",
       "  </thead>\n",
       "  <tbody>\n",
       "    <tr>\n",
       "      <td>0</td>\n",
       "      <td>1</td>\n",
       "      <td>0</td>\n",
       "      <td>0</td>\n",
       "      <td>0</td>\n",
       "      <td>0</td>\n",
       "      <td>0</td>\n",
       "      <td>0</td>\n",
       "      <td>0</td>\n",
       "      <td>0</td>\n",
       "      <td>0</td>\n",
       "      <td>...</td>\n",
       "      <td>0</td>\n",
       "      <td>0</td>\n",
       "      <td>0</td>\n",
       "      <td>0</td>\n",
       "      <td>0</td>\n",
       "      <td>0</td>\n",
       "      <td>0</td>\n",
       "      <td>0</td>\n",
       "      <td>0</td>\n",
       "      <td>0</td>\n",
       "    </tr>\n",
       "    <tr>\n",
       "      <td>1</td>\n",
       "      <td>0</td>\n",
       "      <td>0</td>\n",
       "      <td>0</td>\n",
       "      <td>0</td>\n",
       "      <td>0</td>\n",
       "      <td>0</td>\n",
       "      <td>0</td>\n",
       "      <td>0</td>\n",
       "      <td>0</td>\n",
       "      <td>0</td>\n",
       "      <td>...</td>\n",
       "      <td>0</td>\n",
       "      <td>0</td>\n",
       "      <td>0</td>\n",
       "      <td>0</td>\n",
       "      <td>0</td>\n",
       "      <td>0</td>\n",
       "      <td>0</td>\n",
       "      <td>0</td>\n",
       "      <td>0</td>\n",
       "      <td>0</td>\n",
       "    </tr>\n",
       "    <tr>\n",
       "      <td>2</td>\n",
       "      <td>1</td>\n",
       "      <td>0</td>\n",
       "      <td>0</td>\n",
       "      <td>0</td>\n",
       "      <td>0</td>\n",
       "      <td>0</td>\n",
       "      <td>0</td>\n",
       "      <td>0</td>\n",
       "      <td>0</td>\n",
       "      <td>0</td>\n",
       "      <td>...</td>\n",
       "      <td>0</td>\n",
       "      <td>0</td>\n",
       "      <td>0</td>\n",
       "      <td>0</td>\n",
       "      <td>0</td>\n",
       "      <td>0</td>\n",
       "      <td>0</td>\n",
       "      <td>0</td>\n",
       "      <td>0</td>\n",
       "      <td>0</td>\n",
       "    </tr>\n",
       "    <tr>\n",
       "      <td>3</td>\n",
       "      <td>4</td>\n",
       "      <td>0</td>\n",
       "      <td>0</td>\n",
       "      <td>0</td>\n",
       "      <td>0</td>\n",
       "      <td>0</td>\n",
       "      <td>0</td>\n",
       "      <td>0</td>\n",
       "      <td>0</td>\n",
       "      <td>0</td>\n",
       "      <td>...</td>\n",
       "      <td>0</td>\n",
       "      <td>0</td>\n",
       "      <td>0</td>\n",
       "      <td>0</td>\n",
       "      <td>0</td>\n",
       "      <td>0</td>\n",
       "      <td>0</td>\n",
       "      <td>0</td>\n",
       "      <td>0</td>\n",
       "      <td>0</td>\n",
       "    </tr>\n",
       "    <tr>\n",
       "      <td>4</td>\n",
       "      <td>0</td>\n",
       "      <td>0</td>\n",
       "      <td>0</td>\n",
       "      <td>0</td>\n",
       "      <td>0</td>\n",
       "      <td>0</td>\n",
       "      <td>0</td>\n",
       "      <td>0</td>\n",
       "      <td>0</td>\n",
       "      <td>0</td>\n",
       "      <td>...</td>\n",
       "      <td>0</td>\n",
       "      <td>0</td>\n",
       "      <td>0</td>\n",
       "      <td>0</td>\n",
       "      <td>0</td>\n",
       "      <td>0</td>\n",
       "      <td>0</td>\n",
       "      <td>0</td>\n",
       "      <td>0</td>\n",
       "      <td>0</td>\n",
       "    </tr>\n",
       "  </tbody>\n",
       "</table>\n",
       "<p>5 rows × 785 columns</p>\n",
       "</div>"
      ],
      "text/plain": [
       "   label  pixel0  pixel1  pixel2  pixel3  pixel4  pixel5  pixel6  pixel7  \\\n",
       "0      1       0       0       0       0       0       0       0       0   \n",
       "1      0       0       0       0       0       0       0       0       0   \n",
       "2      1       0       0       0       0       0       0       0       0   \n",
       "3      4       0       0       0       0       0       0       0       0   \n",
       "4      0       0       0       0       0       0       0       0       0   \n",
       "\n",
       "   pixel8  ...  pixel774  pixel775  pixel776  pixel777  pixel778  pixel779  \\\n",
       "0       0  ...         0         0         0         0         0         0   \n",
       "1       0  ...         0         0         0         0         0         0   \n",
       "2       0  ...         0         0         0         0         0         0   \n",
       "3       0  ...         0         0         0         0         0         0   \n",
       "4       0  ...         0         0         0         0         0         0   \n",
       "\n",
       "   pixel780  pixel781  pixel782  pixel783  \n",
       "0         0         0         0         0  \n",
       "1         0         0         0         0  \n",
       "2         0         0         0         0  \n",
       "3         0         0         0         0  \n",
       "4         0         0         0         0  \n",
       "\n",
       "[5 rows x 785 columns]"
      ]
     },
     "execution_count": 12,
     "metadata": {},
     "output_type": "execute_result"
    }
   ],
   "source": [
    "data.head()"
   ]
  },
  {
   "cell_type": "code",
   "execution_count": 17,
   "metadata": {},
   "outputs": [
    {
     "data": {
      "text/plain": [
       "((42000, 784), (42000,))"
      ]
     },
     "execution_count": 17,
     "metadata": {},
     "output_type": "execute_result"
    }
   ],
   "source": [
    "# 选取全部的特征\n",
    "x = data.iloc[:,1:]\n",
    "# 选取标签\n",
    "y = data.iloc[:,0]\n",
    "(x.shape,y.shape)"
   ]
  },
  {
   "cell_type": "code",
   "execution_count": null,
   "metadata": {},
   "outputs": [],
   "source": [
    "'''\n",
    "过滤方法通常用作预处理步骤，特征选择完全独立于任何机器学习算法。\n",
    "它是根据各种统计检验中的分数以及相关性的各项指标来选择特征。\n",
    "'''"
   ]
  },
  {
   "cell_type": "code",
   "execution_count": 18,
   "metadata": {},
   "outputs": [],
   "source": [
    "## Filter过滤法\n",
    "# 全部特征->最佳特征子集->算法->模型评估"
   ]
  },
  {
   "cell_type": "code",
   "execution_count": 22,
   "metadata": {},
   "outputs": [
    {
     "data": {
      "text/plain": [
       "(42000, 708)"
      ]
     },
     "execution_count": 22,
     "metadata": {},
     "output_type": "execute_result"
    }
   ],
   "source": [
    "# 方差过滤\n",
    "from sklearn.feature_selection import VarianceThreshold\n",
    "selector = VarianceThreshold() # 不填则默认阈值为0\n",
    "x_var0 = selector.fit_transform(x)\n",
    "x_var0.shape # 特征过滤后的值为708"
   ]
  },
  {
   "cell_type": "code",
   "execution_count": 27,
   "metadata": {},
   "outputs": [
    {
     "data": {
      "text/plain": [
       "(784,)"
      ]
     },
     "execution_count": 27,
     "metadata": {},
     "output_type": "execute_result"
    }
   ],
   "source": []
  },
  {
   "cell_type": "code",
   "execution_count": 29,
   "metadata": {},
   "outputs": [
    {
     "data": {
      "text/plain": [
       "1352.286703180131"
      ]
     },
     "execution_count": 29,
     "metadata": {},
     "output_type": "execute_result"
    }
   ],
   "source": [
    "import numpy as np\n",
    "# 选取特征中的中位数\n",
    "standard_var = np.median(x.var().values)\n",
    "standard_var"
   ]
  },
  {
   "cell_type": "code",
   "execution_count": 32,
   "metadata": {},
   "outputs": [
    {
     "data": {
      "text/plain": [
       "(42000, 392)"
      ]
     },
     "execution_count": 32,
     "metadata": {},
     "output_type": "execute_result"
    }
   ],
   "source": [
    "# 以方差中位数作为特征相关性的阈值\n",
    "x_fsvar = VarianceThreshold(standard_var).fit_transform(x)\n",
    "x_fsvar.shape # 即能够过滤掉一半的特征"
   ]
  },
  {
   "cell_type": "code",
   "execution_count": 35,
   "metadata": {},
   "outputs": [
    {
     "data": {
      "text/plain": [
       "(42000, 685)"
      ]
     },
     "execution_count": 35,
     "metadata": {},
     "output_type": "execute_result"
    }
   ],
   "source": [
    "# 当特征是二分类时，特征的取值就是伯努利随机变量 Var[x] = p(1-p)\n",
    "# 其中X是特征矩阵，p是二分类特征中的一类在这个特征中所占的概率\n",
    "# 假设p=0.8,即二分类特征中某种分类占到80%以上的时候删除特征\n",
    "x_bar = VarianceThreshold(.8 * (1 - .8)).fit_transform(x)\n",
    "x_bar.shape # 删除相似度达80%以上的特征后，剩余为685"
   ]
  },
  {
   "cell_type": "code",
   "execution_count": 36,
   "metadata": {},
   "outputs": [],
   "source": [
    "# KNN vs 随机森林在不通方差过滤效果下的对比\n",
    "from sklearn.ensemble import RandomForestClassifier as RFC\n",
    "from sklearn.neighbors import KNeighborsClassifier as KNN\n",
    "from sklearn.model_selection import cross_val_score\n",
    "import numpy as np"
   ]
  },
  {
   "cell_type": "code",
   "execution_count": 37,
   "metadata": {},
   "outputs": [],
   "source": [
    "x = data.iloc[:,1:]\n",
    "y = data.iloc[:,0]"
   ]
  },
  {
   "cell_type": "code",
   "execution_count": 38,
   "metadata": {},
   "outputs": [],
   "source": [
    "standard_var = np.median(x.var().values)\n",
    "x_fsvar = VarianceThreshold(standard_var).fit_transform(x)"
   ]
  },
  {
   "cell_type": "code",
   "execution_count": null,
   "metadata": {},
   "outputs": [],
   "source": [
    "# KNN算法，特征过滤前后用时\n",
    "#======【TIME WARNING：35mins +】======#\n",
    "cross_val_score(KNN(),x,y,cv=5).mean()\n",
    "#python中的魔法命令，可以直接使用%%timeit来计算运行这个cell中的代码所需的时间\n",
    "#为了计算所需的时间，需要将这个cell中的代码运行很多次（通常是7次）后求平均值，因此运行%%timeit的时间会远远超过cell中的代码单独运行的时间\n",
    "#======【TIME WARNING：4 hours】======#\n",
    "%timeit\n",
    "cross_val_score(KNN(),x,y,cv=5).mean()\n",
    "#======【TIME WARNING：20mins】======#\n",
    "cross_val_score(KNN(),x_fsvar,y,cv=5).mean()"
   ]
  },
  {
   "cell_type": "code",
   "execution_count": 44,
   "metadata": {},
   "outputs": [
    {
     "data": {
      "text/plain": [
       "0.9388098166696807"
      ]
     },
     "execution_count": 44,
     "metadata": {},
     "output_type": "execute_result"
    }
   ],
   "source": [
    "# 随机森林算法，特征过滤前后用时\n",
    "cross_val_score(RFC(n_estimators=10,random_state=0),x,y,cv=5).mean()\n",
    "cross_val_score(RFC(n_estimators=10,random_state=0),x_fsvar,y,cv=5).mean()"
   ]
  },
  {
   "cell_type": "code",
   "execution_count": 45,
   "metadata": {},
   "outputs": [],
   "source": [
    "# 特征相关性判断\n",
    "# 1.卡方过滤\n",
    "from sklearn.ensemble import RandomForestClassifier as RFC\n",
    "from sklearn.model_selection import cross_val_score\n",
    "from sklearn.feature_selection import SelectKBest\n",
    "from sklearn.feature_selection import chi2"
   ]
  },
  {
   "cell_type": "code",
   "execution_count": 47,
   "metadata": {},
   "outputs": [
    {
     "data": {
      "text/plain": [
       "(42000, 300)"
      ]
     },
     "execution_count": 47,
     "metadata": {},
     "output_type": "execute_result"
    }
   ],
   "source": [
    "x_fschi = SelectKBest(chi2,k=300).fit_transform(x_fsvar,y)\n",
    "x_fschi.shape # 选取相关性靠前的300个特征"
   ]
  },
  {
   "cell_type": "code",
   "execution_count": 48,
   "metadata": {},
   "outputs": [
    {
     "data": {
      "text/plain": [
       "0.9333098667649198"
      ]
     },
     "execution_count": 48,
     "metadata": {},
     "output_type": "execute_result"
    }
   ],
   "source": [
    "cross_val_score(RFC(n_estimators=10,random_state=0),x_fschi,y,cv=5).mean()"
   ]
  },
  {
   "cell_type": "code",
   "execution_count": 53,
   "metadata": {},
   "outputs": [
    {
     "data": {
      "image/png": "[encoded data removed]",
      "text/plain": [
       "<Figure size 432x288 with 1 Axes>"
      ]
     },
     "metadata": {
      "needs_background": "light"
     },
     "output_type": "display_data"
    }
   ],
   "source": [
    "# 超参数k的选取\n",
    "import matplotlib.pyplot as plt\n",
    "score = []\n",
    "for i in range(390,200,-10):\n",
    "    x_fschi = SelectKBest(chi2,k=i).fit_transform(x_fsvar,y)\n",
    "    once = cross_val_score(RFC(n_estimators=10,random_state=0),x_fschi,y,cv=5).mean()\n",
    "    score.append(once)\n",
    "plt.plot(range(390,200,-10),score)\n",
    "plt.show()"
   ]
  },
  {
   "cell_type": "code",
   "execution_count": 66,
   "metadata": {},
   "outputs": [
    {
     "data": {
      "text/plain": [
       "((392,), (392,))"
      ]
     },
     "execution_count": 66,
     "metadata": {},
     "output_type": "execute_result"
    }
   ],
   "source": [
    "# 通过P值进行判断,卡方判断返回，卡方值(k)与P值\n",
    "chivalue,pvalues_chi = chi2(x_fsvar,y) # 特征与标签的相关性\n",
    "(chivalue.shape,pvalues_chi.shape)"
   ]
  },
  {
   "cell_type": "code",
   "execution_count": 69,
   "metadata": {},
   "outputs": [
    {
     "data": {
      "text/plain": [
       "0"
      ]
     },
     "execution_count": 69,
     "metadata": {},
     "output_type": "execute_result"
    }
   ],
   "source": [
    "chivalue.shape[0]\n",
    "(pvalues_chi > 0.05).sum()"
   ]
  },
  {
   "cell_type": "code",
   "execution_count": 72,
   "metadata": {},
   "outputs": [
    {
     "data": {
      "text/plain": [
       "(42000, 392)"
      ]
     },
     "execution_count": 72,
     "metadata": {},
     "output_type": "execute_result"
    }
   ],
   "source": [
    "k_ = chivalue.shape[0] - (pvalues_chi > 0.05).sum() # 过滤掉p值小于0.05的特征数量\n",
    "# 再通过SelectKBest进行选取前k个特征\n",
    "x_fschi = SelectKBest(chi2,k=k_).fit_transform(x_fsvar,y)\n",
    "x_fschi.shape"
   ]
  },
  {
   "cell_type": "code",
   "execution_count": 76,
   "metadata": {},
   "outputs": [
    {
     "data": {
      "text/plain": [
       "((392,), (392,))"
      ]
     },
     "execution_count": 76,
     "metadata": {},
     "output_type": "execute_result"
    }
   ],
   "source": [
    "# F值检验--用来捕捉每个特征与标签之间的线性关系的过滤方法\n",
    "from sklearn.feature_selection import f_classif\n",
    "F,pvalues_f = f_classif(x_fsvar,y)\n",
    "(F.shape,pvalues_f.shape)"
   ]
  },
  {
   "cell_type": "code",
   "execution_count": 78,
   "metadata": {},
   "outputs": [
    {
     "data": {
      "text/plain": [
       "(42000, 392)"
      ]
     },
     "execution_count": 78,
     "metadata": {},
     "output_type": "execute_result"
    }
   ],
   "source": [
    "# 过滤方法同上\n",
    "k_ = F.shape[0] - (pvalues_f > 0.05).sum()\n",
    "x_fsF = SelectKBest(f_classif,k=k_).fit_transform(x_fsvar,y)\n",
    "x_fsF.shape"
   ]
  },
  {
   "cell_type": "code",
   "execution_count": 79,
   "metadata": {},
   "outputs": [
    {
     "data": {
      "text/plain": [
       "array([0.06894716, 0.08452055, 0.10657538, 0.11223374, 0.116447  ,\n",
       "       0.10479306, 0.09002886, 0.05327173, 0.07614014, 0.0969441 ,\n",
       "       0.11490322, 0.14893776, 0.15978893, 0.16005746, 0.16003004,\n",
       "       0.12870068, 0.09259406, 0.06521079, 0.03217436, 0.02448286,\n",
       "       0.06841499, 0.09982025, 0.12380853, 0.1534958 , 0.17595589,\n",
       "       0.20644884, 0.22056287, 0.2257758 , 0.22370985, 0.17704858,\n",
       "       0.14122854, 0.10970489, 0.08036616, 0.05806892, 0.05092111,\n",
       "       0.04046143, 0.05431091, 0.07614891, 0.10057549, 0.12297718,\n",
       "       0.13617313, 0.15025379, 0.16754012, 0.18236057, 0.18427141,\n",
       "       0.1741774 , 0.15467679, 0.13122499, 0.11382583, 0.09559875,\n",
       "       0.08101695, 0.06203413, 0.06582145, 0.04473196, 0.06316024,\n",
       "       0.07221735, 0.08321708, 0.09564432, 0.1001527 , 0.11038187,\n",
       "       0.10776582, 0.11222418, 0.11906166, 0.11729099, 0.11456686,\n",
       "       0.11414737, 0.10942615, 0.11102179, 0.09531619, 0.07797781,\n",
       "       0.07154818, 0.04236652, 0.05864219, 0.06380257, 0.07437094,\n",
       "       0.0889116 , 0.11902801, 0.14304085, 0.14526706, 0.12332394,\n",
       "       0.10753311, 0.11632489, 0.11147509, 0.11770486, 0.13298725,\n",
       "       0.13681443, 0.13223528, 0.10603933, 0.08248112, 0.06716895,\n",
       "       0.04212763, 0.05347797, 0.06748387, 0.09518678, 0.14018033,\n",
       "       0.18574671, 0.20033232, 0.15907215, 0.10964973, 0.10366126,\n",
       "       0.12384577, 0.12542077, 0.13390538, 0.1394684 , 0.1502771 ,\n",
       "       0.14088502, 0.1165063 , 0.09256238, 0.06703709, 0.03802162,\n",
       "       0.05548   , 0.07627253, 0.12390819, 0.17806198, 0.21786431,\n",
       "       0.18847953, 0.1265581 , 0.06817544, 0.10543418, 0.15252476,\n",
       "       0.11514858, 0.13324284, 0.16132167, 0.16026286, 0.13908643,\n",
       "       0.12446143, 0.10279887, 0.07468962, 0.03253427, 0.05592141,\n",
       "       0.09731062, 0.15491026, 0.20619057, 0.21510052, 0.18592538,\n",
       "       0.11337604, 0.10605932, 0.17461914, 0.19124862, 0.127754  ,\n",
       "       0.13708842, 0.18060643, 0.15359399, 0.13630194, 0.13858836,\n",
       "       0.12065194, 0.08355527, 0.03897169, 0.07163597, 0.13456124,\n",
       "       0.19259486, 0.22026555, 0.22235537, 0.19797367, 0.16158077,\n",
       "       0.19784882, 0.26007527, 0.2169467 , 0.13885917, 0.17915157,\n",
       "       0.18210789, 0.13283097, 0.12508192, 0.14695134, 0.13630695,\n",
       "       0.10238495, 0.04045236, 0.09223205, 0.15907197, 0.21246572,\n",
       "       0.2297612 , 0.21423679, 0.20011583, 0.19881606, 0.24991067,\n",
       "       0.28481289, 0.2100646 , 0.16961276, 0.22132909, 0.18258138,\n",
       "       0.12199598, 0.12075271, 0.1532632 , 0.14692536, 0.09979542,\n",
       "       0.06156635, 0.11383025, 0.17997058, 0.22184015, 0.22552107,\n",
       "       0.18755099, 0.16756834, 0.18346083, 0.24451578, 0.28098813,\n",
       "       0.20422564, 0.20961146, 0.25145375, 0.18379414, 0.11945051,\n",
       "       0.13591277, 0.15922887, 0.14944627, 0.09881991, 0.07169554,\n",
       "       0.1366206 , 0.19351579, 0.22519523, 0.22186329, 0.18576145,\n",
       "       0.17204123, 0.19247973, 0.26147334, 0.27026762, 0.19780452,\n",
       "       0.22902202, 0.23667961, 0.16150054, 0.13404093, 0.15230249,\n",
       "       0.16254979, 0.12730999, 0.08878052, 0.07935938, 0.13681524,\n",
       "       0.19260069, 0.21052829, 0.19749644, 0.1874737 , 0.18243183,\n",
       "       0.21792896, 0.26660305, 0.24878587, 0.1877523 , 0.21037836,\n",
       "       0.1769033 , 0.13483312, 0.14357305, 0.16838258, 0.15431004,\n",
       "       0.11301137, 0.06861435, 0.08853478, 0.13486811, 0.18148024,\n",
       "       0.19368157, 0.18475205, 0.19551912, 0.19616079, 0.21873066,\n",
       "       0.2504067 , 0.20333844, 0.15235678, 0.15311981, 0.12525582,\n",
       "       0.13393912, 0.16763606, 0.18237129, 0.14003792, 0.09825052,\n",
       "       0.05928815, 0.03674533, 0.0983497 , 0.15298909, 0.18779393,\n",
       "       0.1965683 , 0.2004125 , 0.21247153, 0.21432173, 0.1941457 ,\n",
       "       0.19578019, 0.1438716 , 0.10161816, 0.10018703, 0.10540431,\n",
       "       0.15615314, 0.18684758, 0.17336747, 0.13031196, 0.08828814,\n",
       "       0.05497106, 0.0492476 , 0.11482967, 0.16337094, 0.20206958,\n",
       "       0.21690095, 0.22205457, 0.22559114, 0.20334983, 0.16948618,\n",
       "       0.1418072 , 0.08503385, 0.07049183, 0.08585841, 0.13975964,\n",
       "       0.18484496, 0.19851358, 0.15345837, 0.10894558, 0.08431471,\n",
       "       0.05277391, 0.05121565, 0.1102257 , 0.16862764, 0.21337031,\n",
       "       0.23742201, 0.23915937, 0.21244351, 0.18116945, 0.13652257,\n",
       "       0.10128839, 0.07583531, 0.06328348, 0.09980792, 0.14539201,\n",
       "       0.16582366, 0.150215  , 0.11336955, 0.09248072, 0.06403027,\n",
       "       0.09209109, 0.1486863 , 0.20576783, 0.23157293, 0.23538388,\n",
       "       0.19182632, 0.14146193, 0.0933225 , 0.0789511 , 0.07376199,\n",
       "       0.07818545, 0.10317805, 0.11922814, 0.11511307, 0.08852355,\n",
       "       0.08155667, 0.05803945, 0.04263762, 0.06274692, 0.10241744,\n",
       "       0.1518551 , 0.18667929, 0.19976504, 0.18513795, 0.16241219,\n",
       "       0.13726917, 0.11728094, 0.11251843, 0.11085451, 0.09460092,\n",
       "       0.07950713, 0.07609836, 0.05887417, 0.04785511, 0.02650887,\n",
       "       0.05094234, 0.07865101, 0.10615958, 0.1382926 , 0.16018262,\n",
       "       0.17678944, 0.18424958, 0.18202663, 0.15007593, 0.12011849,\n",
       "       0.09604312, 0.06859548, 0.05247329, 0.03621565, 0.02822348,\n",
       "       0.03019976, 0.04794325, 0.06662408, 0.08569047, 0.10692968,\n",
       "       0.13067629, 0.11691246, 0.11119945, 0.09297248, 0.07596882,\n",
       "       0.0638549 , 0.04719217, 0.02433622, 0.06432755, 0.08794868,\n",
       "       0.10322691, 0.1223046 , 0.11241967, 0.0998702 , 0.08638436,\n",
       "       0.06930579, 0.05330476])"
      ]
     },
     "execution_count": 79,
     "metadata": {},
     "output_type": "execute_result"
    }
   ],
   "source": [
    "# 互信息法 用来捕捉每个特征与标签之间的任意关系（包括线性和非线性关系）的过滤方法\n",
    "from sklearn.feature_selection import mutual_info_classif as MIC\n",
    "result = MIC(x_fsvar,y)\n",
    "result"
   ]
  },
  {
   "cell_type": "code",
   "execution_count": 80,
   "metadata": {},
   "outputs": [
    {
     "data": {
      "text/plain": [
       "(392,)"
      ]
     },
     "execution_count": 80,
     "metadata": {},
     "output_type": "execute_result"
    }
   ],
   "source": [
    "result.shape"
   ]
  },
  {
   "cell_type": "code",
   "execution_count": 83,
   "metadata": {},
   "outputs": [],
   "source": [
    "k_ = result.shape[0] - sum(result <= 0)\n",
    "x_fsmic = SelectKBest(MIC,k=k_).fit_transform(x_fsvar,y)"
   ]
  },
  {
   "cell_type": "code",
   "execution_count": 84,
   "metadata": {},
   "outputs": [],
   "source": [
    "## Embedded嵌入法\n",
    "from sklearn.feature_selection import SelectFromModel\n",
    "from sklearn.ensemble import RandomForestClassifier as RFC"
   ]
  },
  {
   "cell_type": "code",
   "execution_count": 85,
   "metadata": {},
   "outputs": [],
   "source": [
    "RFC_ = RFC(n_estimators=10,random_state=0)\n",
    "x_embedded = SelectFromModel(RFC_,threshold=0.005).fit_transform(x,y)"
   ]
  },
  {
   "cell_type": "code",
   "execution_count": 91,
   "metadata": {},
   "outputs": [
    {
     "data": {
      "text/plain": [
       "0.0012755102040816326"
      ]
     },
     "execution_count": 91,
     "metadata": {},
     "output_type": "execute_result"
    }
   ],
   "source": [
    "RFC_.fit(x,y).feature_importances_.mean() # 平均每个特征的重要性平均为0.0012，和为1"
   ]
  },
  {
   "cell_type": "code",
   "execution_count": 93,
   "metadata": {},
   "outputs": [
    {
     "data": {
      "text/plain": [
       "(42000, 47)"
      ]
     },
     "execution_count": 93,
     "metadata": {},
     "output_type": "execute_result"
    }
   ],
   "source": [
    "x_embedded.shape # 过滤后的特征为47个"
   ]
  },
  {
   "cell_type": "code",
   "execution_count": 95,
   "metadata": {},
   "outputs": [],
   "source": [
    "# 利用学习曲线找出超参数最合适的值\n",
    "import numpy as np\n",
    "import matplotlib.pyplot as plt\n",
    "threshold = np.linspace(0,(RFC_.fit(x,y).feature_importances_).max(),20)\n",
    "score = []\n",
    "for i in threshold:\n",
    "    x_embedded = SelectFromModel(RFC_,threshold=i).fit_transform(x,y)\n",
    "    once = cross_val_score(RFC_,X_embedded,y,cv=5).mean()\n",
    "    score.append(once)\n",
    "plt.plot(threshold,score)\n",
    "plt.show()"
   ]
  },
  {
   "cell_type": "code",
   "execution_count": 97,
   "metadata": {},
   "outputs": [
    {
     "data": {
      "text/plain": [
       "(42000, 324)"
      ]
     },
     "execution_count": 97,
     "metadata": {},
     "output_type": "execute_result"
    }
   ],
   "source": [
    "x_embedded = SelectFromModel(RFC_,threshold=0.00067).fit_transform(x,y)\n",
    "x_embedded.shape"
   ]
  },
  {
   "cell_type": "code",
   "execution_count": 98,
   "metadata": {},
   "outputs": [
    {
     "data": {
      "text/plain": [
       "0.939905083368037"
      ]
     },
     "execution_count": 98,
     "metadata": {},
     "output_type": "execute_result"
    }
   ],
   "source": [
    "cross_val_score(RFC_,x_embedded,y,cv=5).mean()"
   ]
  },
  {
   "cell_type": "code",
   "execution_count": null,
   "metadata": {},
   "outputs": [],
   "source": [
    "#======【TIME WARNING：10 mins】======# 继续缩小超参数的范围，查询最优值\n",
    "score2 = []\n",
    "for i in np.linspace(0,0.00134,20):\n",
    "    X_embedded = SelectFromModel(RFC_,threshold=i).fit_transform(X,y)\n",
    "    once = cross_val_score(RFC_,X_embedded,y,cv=5).mean()\n",
    "    score2.append(once)\n",
    "plt.figure(figsize=[20,5])\n",
    "plt.plot(np.linspace(0,0.00134,20),score2)\n",
    "plt.xticks(np.linspace(0,0.00134,20))\n",
    "plt.show()"
   ]
  },
  {
   "cell_type": "code",
   "execution_count": 100,
   "metadata": {},
   "outputs": [
    {
     "data": {
      "text/plain": [
       "0.9408335415056387"
      ]
     },
     "execution_count": 100,
     "metadata": {},
     "output_type": "execute_result"
    }
   ],
   "source": [
    "x_embedded = SelectFromModel(RFC_,threshold=0.000564).fit_transform(x,y)\n",
    "x_embedded.shape\n",
    "cross_val_score(RFC_,x_embedded,y,cv=5).mean()"
   ]
  },
  {
   "cell_type": "code",
   "execution_count": 101,
   "metadata": {},
   "outputs": [],
   "source": [
    "## Wrapper包装法\n",
    "from sklearn.feature_selection import RFE\n",
    "RFC_ = RFC(n_estimators=10,random_state=0)\n",
    "selector = RFE(RFC_,n_features_to_select=340,step=50).fit(x,y)"
   ]
  },
  {
   "cell_type": "code",
   "execution_count": 108,
   "metadata": {},
   "outputs": [
    {
     "data": {
      "text/plain": [
       "0.9389522459432109"
      ]
     },
     "execution_count": 108,
     "metadata": {},
     "output_type": "execute_result"
    }
   ],
   "source": [
    "selector.support_.sum()\n",
    "# selector.ranking_\n",
    "x_wrapper = selector.transform(x) # 筛选特征\n",
    "cross_val_score(RFC_,x_wrapper,y,cv=5).mean()\n",
    "# 同理，可利用学习曲线找寻出最佳的特征选择个数"
   ]
  },
  {
   "cell_type": "code",
   "execution_count": 115,
   "metadata": {},
   "outputs": [
    {
     "data": {
      "text/plain": [
       "(42000, 340)"
      ]
     },
     "execution_count": 115,
     "metadata": {},
     "output_type": "execute_result"
    }
   ],
   "source": [
    "x_wrapper.shape"
   ]
  },
  {
   "cell_type": "code",
   "execution_count": null,
   "metadata": {},
   "outputs": [],
   "source": []
  }
 ],
 "metadata": {
  "kernelspec": {
   "display_name": "Python 3",
   "language": "python",
   "name": "python3"
  },
  "language_info": {
   "codemirror_mode": {
    "name": "ipython",
    "version": 3
   },
   "file_extension": ".py",
   "mimetype": "text/x-python",
   "name": "python",
   "nbconvert_exporter": "python",
   "pygments_lexer": "ipython3",
   "version": "3.7.4"
  }
 },
 "nbformat": 4,
 "nbformat_minor": 2
}
